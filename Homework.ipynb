{
 "cells": [
  {
   "cell_type": "markdown",
   "metadata": {},
   "source": [
    "****\n",
    "# DIGHUM101-Homework\n",
    "****"
   ]
  },
  {
   "cell_type": "markdown",
   "metadata": {},
   "source": [
    "**Assigned:** June 3, 2019  \n",
    "**Due:** June 24, 2019 (before 11:59:59PM)\n",
    "**Description:** review and test your basic programming skills. \n",
    "\n",
    "**How to submit:** \n",
    "\n",
    "1. Save your notebook! \n",
    "2. Click \"File\" --> \"Download as\" --> \"Notebook (.ipynb)\"\n",
    "3. Visit the bCourses site to view instructions for uploading your .ipynb notebook file.\n",
    "\n",
    "**Questions 1-9, 22, and 62-74 non-coding questions** - just type text in a Markdown cell to answer them.\n",
    "\n",
    "****"
   ]
  },
  {
   "cell_type": "markdown",
   "metadata": {},
   "source": [
    "#### This homework assignment consists of 76 questions total and is divided into X sections:  \n",
    "\n",
    "1: Jupyter Notebooks and basic definitions (Questions 1-9)  \n",
    "\n",
    "2: Variable assignment, types, conversion, and indexing (Questions 10-24)  \n",
    "\n",
    "3: Lists (Questions 25-29)  \n",
    "\n",
    "4: Dictionaries (Questions 30-36)  \n",
    "\n",
    "5: Pandas (Questions 37-47)  \n",
    "\n",
    "6: Text preprocessing (Questions 48-61)  \n",
    "\n",
    "7: Bash (Questions 62-71)  \n",
    "\n",
    "8: Sqlite (Question 72) . \n",
    "\n",
    "9: Projects (Questions 73 and 74)  \n",
    "\n",
    "10: Submit your assignment and GitHub (Questions 75 and 76) \n",
    "****"
   ]
  },
  {
   "cell_type": "markdown",
   "metadata": {},
   "source": [
    "# Section 1: Jupyter Notebooks and basic definitions\n",
    "****"
   ]
  },
  {
   "cell_type": "markdown",
   "metadata": {},
   "source": [
    "#### 1. Describe how you add and delete cells in a Jupyter Notebook."
   ]
  },
  {
   "cell_type": "markdown",
   "metadata": {
    "collapsed": true
   },
   "source": [
    "**Add cell below:** plus button or (esc +) b\n",
    "\n",
    "**Add cell above:** (esc +) a\n",
    "\n",
    "**Delete cell:** (esc +) dd"
   ]
  },
  {
   "cell_type": "markdown",
   "metadata": {},
   "source": [
    "#### 2. Describe how to convert code cells to markdown cells and vice-versa in a Jupyter Notebook."
   ]
  },
  {
   "cell_type": "markdown",
   "metadata": {
    "collapsed": true
   },
   "source": [
    "**To code:** (esc +) y\n",
    "\n",
    "**To markdown:** (esc +) m\n",
    "\n",
    "Or choose from the dropdown menu in the toolbar."
   ]
  },
  {
   "cell_type": "markdown",
   "metadata": {},
   "source": [
    "#### 3. Describe what should you type, click, push, or where should you go if you need help? List four things:"
   ]
  },
  {
   "cell_type": "markdown",
   "metadata": {},
   "source": [
    "**For Jupyter:** (esc +) h\n",
    "\n",
    "**For code:**\n",
    "- shift-tab\n",
    "- function_name? or help(function_name)\n",
    "\n",
    "**General:** Google/Stack Overflow"
   ]
  },
  {
   "cell_type": "markdown",
   "metadata": {},
   "source": [
    "#### 4. Describe how to restart your Jupyter Notebook kernel and clear your output."
   ]
  },
  {
   "cell_type": "markdown",
   "metadata": {
    "collapsed": true
   },
   "source": [
    "**In the menu bar:** Kernel > Restart & Clear Output"
   ]
  },
  {
   "cell_type": "markdown",
   "metadata": {},
   "source": [
    "#### 5. Describe how you properly save and quit a Jupiter Notebook."
   ]
  },
  {
   "cell_type": "markdown",
   "metadata": {},
   "source": [
    "**In the menu bar:**\n",
    "- File > Save and Checkpoint or Floppy Disk/Save Icon\n",
    "- File > Close and Halt "
   ]
  },
  {
   "cell_type": "markdown",
   "metadata": {},
   "source": [
    "#### 6. Describe what the `%history` function does."
   ]
  },
  {
   "cell_type": "markdown",
   "metadata": {
    "collapsed": true
   },
   "source": [
    "%history displays the history--what you've run in the notebook so far."
   ]
  },
  {
   "cell_type": "markdown",
   "metadata": {},
   "source": [
    "#### 7. Describe the three-piece recipe for variable definition:  "
   ]
  },
  {
   "cell_type": "markdown",
   "metadata": {},
   "source": [
    "`variable_name = data`\n",
    "1. `variable_name` is what you're calling the variable\n",
    "2. `=` assigns\n",
    "3. `data` is what you're assigning the variable to"
   ]
  },
  {
   "cell_type": "markdown",
   "metadata": {},
   "source": [
    "#### 8. Define function, argument, and method:"
   ]
  },
  {
   "cell_type": "markdown",
   "metadata": {
    "collapsed": true
   },
   "source": [
    "**Functions:** performs actions on arguments. Followed by ().\n",
    "\n",
    "**Arguments:** arguments go inside the parentheses of functions for the function to use. Inside ().\n",
    "\n",
    "**Methods:** functions which are type-specific."
   ]
  },
  {
   "cell_type": "markdown",
   "metadata": {},
   "source": [
    "#### 9. Define string, float, integer, and logical data types:"
   ]
  },
  {
   "cell_type": "markdown",
   "metadata": {},
   "source": [
    "**String:** text/character(s).\n",
    "\n",
    "**Float:** decimal numbers.\n",
    "\n",
    "**Integer:** non-decimal.\n",
    "\n",
    "**Logical:** data that is evaluated to true or false."
   ]
  },
  {
   "cell_type": "markdown",
   "metadata": {},
   "source": [
    "# Section 2: Variable assignment, types, conversion, and indexing\n",
    "****"
   ]
  },
  {
   "cell_type": "markdown",
   "metadata": {},
   "source": [
    "#### 10. Define a string variable named person that contains the name \"Isabel Allende\". Print its output."
   ]
  },
  {
   "cell_type": "code",
   "execution_count": 1,
   "metadata": {},
   "outputs": [
    {
     "name": "stdout",
     "output_type": "stream",
     "text": [
      "Isabel Allende\n"
     ]
    }
   ],
   "source": [
    "person = \"Isabel Allende\"\n",
    "print(person)"
   ]
  },
  {
   "cell_type": "markdown",
   "metadata": {},
   "source": [
    "#### 11. Index `person` so that just the first character is printed."
   ]
  },
  {
   "cell_type": "code",
   "execution_count": 2,
   "metadata": {},
   "outputs": [
    {
     "data": {
      "text/plain": [
       "'I'"
      ]
     },
     "execution_count": 2,
     "metadata": {},
     "output_type": "execute_result"
    }
   ],
   "source": [
    "person[0]"
   ]
  },
  {
   "cell_type": "markdown",
   "metadata": {},
   "source": [
    "#### 12. Slice `person` so that just the fifth through the eighth characters are printed. "
   ]
  },
  {
   "cell_type": "code",
   "execution_count": 3,
   "metadata": {},
   "outputs": [
    {
     "data": {
      "text/plain": [
       "'el A'"
      ]
     },
     "execution_count": 3,
     "metadata": {},
     "output_type": "execute_result"
    }
   ],
   "source": [
    "person[4:8]"
   ]
  },
  {
   "cell_type": "markdown",
   "metadata": {},
   "source": [
    "#### 13. Slice `person` so that every third character is printed, starting with the first character. (HINT: use a stride in your slice!)"
   ]
  },
  {
   "cell_type": "code",
   "execution_count": 4,
   "metadata": {},
   "outputs": [
    {
     "data": {
      "text/plain": [
       "'Ib ld'"
      ]
     },
     "execution_count": 4,
     "metadata": {},
     "output_type": "execute_result"
    }
   ],
   "source": [
    "person[::3]"
   ]
  },
  {
   "cell_type": "markdown",
   "metadata": {},
   "source": [
    "#### 14. Use a string method to turn the string `person` into a list containing her first and last name."
   ]
  },
  {
   "cell_type": "code",
   "execution_count": 5,
   "metadata": {},
   "outputs": [
    {
     "data": {
      "text/plain": [
       "['Isabel', 'Allende']"
      ]
     },
     "execution_count": 5,
     "metadata": {},
     "output_type": "execute_result"
    }
   ],
   "source": [
    "person.split()"
   ]
  },
  {
   "cell_type": "markdown",
   "metadata": {},
   "source": [
    "#### 15. Use a string method to turn the string `person` into a list containing her first and last name, but then index just the first name. "
   ]
  },
  {
   "cell_type": "code",
   "execution_count": 6,
   "metadata": {},
   "outputs": [
    {
     "data": {
      "text/plain": [
       "'Isabel'"
      ]
     },
     "execution_count": 6,
     "metadata": {},
     "output_type": "execute_result"
    }
   ],
   "source": [
    "person.split()[0]"
   ]
  },
  {
   "cell_type": "markdown",
   "metadata": {},
   "source": [
    "#### 16. Define two float variables, print their outputs, and print their types."
   ]
  },
  {
   "cell_type": "code",
   "execution_count": 7,
   "metadata": {},
   "outputs": [
    {
     "name": "stdout",
     "output_type": "stream",
     "text": [
      "0.0 3.19\n",
      "<class 'float'> <class 'float'>\n"
     ]
    }
   ],
   "source": [
    "float1 = 0.0\n",
    "float2 = 3.19\n",
    "print(float1, float2)\n",
    "print(type(float1), type(float2))"
   ]
  },
  {
   "cell_type": "markdown",
   "metadata": {},
   "source": [
    "#### 17. Define two integer variables, print their outputs, and print their types."
   ]
  },
  {
   "cell_type": "code",
   "execution_count": 8,
   "metadata": {},
   "outputs": [
    {
     "name": "stdout",
     "output_type": "stream",
     "text": [
      "0 -4\n",
      "<class 'int'> <class 'int'>\n"
     ]
    }
   ],
   "source": [
    "int1 = 0\n",
    "int2 = -4\n",
    "print(int1, int2)\n",
    "print(type(int1), type(int2))"
   ]
  },
  {
   "cell_type": "markdown",
   "metadata": {},
   "source": [
    "#### 18. Sum your two float variables and divide them by the sum of the two integer variables. Call this variable `division`, print its output, and print its type. "
   ]
  },
  {
   "cell_type": "code",
   "execution_count": 9,
   "metadata": {},
   "outputs": [
    {
     "name": "stdout",
     "output_type": "stream",
     "text": [
      "-0.7975\n",
      "<class 'float'>\n"
     ]
    }
   ],
   "source": [
    "division = (float1 + float2)/(int1 + int2)\n",
    "print(division)\n",
    "print(type(division))"
   ]
  },
  {
   "cell_type": "markdown",
   "metadata": {},
   "source": [
    "#### 19. Convert both of your floats to strings. Assign these two outputs to two new variables named `string1` and `string2`. Print them both, and print the type for both."
   ]
  },
  {
   "cell_type": "code",
   "execution_count": 10,
   "metadata": {},
   "outputs": [
    {
     "name": "stdout",
     "output_type": "stream",
     "text": [
      "0.0 3.19\n",
      "<class 'str'> <class 'str'>\n"
     ]
    }
   ],
   "source": [
    "string1 = str(float1)\n",
    "string2 = str(float2)\n",
    "print(string1, string2)\n",
    "print(type(string1), type(string2))"
   ]
  },
  {
   "cell_type": "markdown",
   "metadata": {},
   "source": [
    "#### 20. Add your two floats from Question # 16 above. "
   ]
  },
  {
   "cell_type": "code",
   "execution_count": 11,
   "metadata": {},
   "outputs": [
    {
     "data": {
      "text/plain": [
       "3.19"
      ]
     },
     "execution_count": 11,
     "metadata": {},
     "output_type": "execute_result"
    }
   ],
   "source": [
    "float1 + float2"
   ]
  },
  {
   "cell_type": "markdown",
   "metadata": {},
   "source": [
    "#### 21. Add `string1` and `string2` from Question # 19 above."
   ]
  },
  {
   "cell_type": "code",
   "execution_count": 12,
   "metadata": {},
   "outputs": [
    {
     "data": {
      "text/plain": [
       "'0.03.19'"
      ]
     },
     "execution_count": 12,
     "metadata": {},
     "output_type": "execute_result"
    }
   ],
   "source": [
    "string1 + string2"
   ]
  },
  {
   "cell_type": "markdown",
   "metadata": {},
   "source": [
    "#### 22. What is the difference between integer addition and string addition? "
   ]
  },
  {
   "cell_type": "markdown",
   "metadata": {},
   "source": [
    "Integer addition adds two integers and returns an integer. String addition appends one string to another."
   ]
  },
  {
   "cell_type": "code",
   "execution_count": 13,
   "metadata": {},
   "outputs": [
    {
     "name": "stdout",
     "output_type": "stream",
     "text": [
      "Integer addition: 3 + 4 = 7\n",
      "String addition: \"abc\" + \"123\" = abc123\n"
     ]
    }
   ],
   "source": [
    "integer_add = 3 + 4\n",
    "print(\"Integer addition: 3 + 4 =\", integer_add)\n",
    "string_add = \"abc\" + \"123\"\n",
    "print(\"String addition: \\\"abc\\\" + \\\"123\\\" =\", string_add)"
   ]
  },
  {
   "cell_type": "markdown",
   "metadata": {},
   "source": [
    "#### 23. Define and print three variables:\n",
    "\n",
    "a. A string named `major` that contains your major. Print it. \n",
    "\n",
    "b. A string named `dream_job` that contains your dream job. Print it.\n",
    "\n",
    "c. An integer named `years` that contains the number of years until you are working at your dream job. Print it. "
   ]
  },
  {
   "cell_type": "code",
   "execution_count": 14,
   "metadata": {},
   "outputs": [
    {
     "name": "stdout",
     "output_type": "stream",
     "text": [
      "CS\n",
      "existential crisis\n",
      "999\n"
     ]
    }
   ],
   "source": [
    "major = \"CS\"\n",
    "print(major)\n",
    "dream_job = \"existential crisis\"\n",
    "print(dream_job)\n",
    "years = 999\n",
    "print(years)"
   ]
  },
  {
   "cell_type": "markdown",
   "metadata": {},
   "source": [
    "#### 24. Print a statement that returns the following text: \n",
    "\n",
    "My major is `major` and my goal is to work at `dream_job` in `years` years. "
   ]
  },
  {
   "cell_type": "code",
   "execution_count": 15,
   "metadata": {},
   "outputs": [
    {
     "name": "stdout",
     "output_type": "stream",
     "text": [
      "My major is CS and my goal is to work at existential crisis in 999 years.\n"
     ]
    }
   ],
   "source": [
    "print(\"My major is\", major, \"and my goal is to work at\", dream_job, \"in\", years, \"years.\")"
   ]
  },
  {
   "cell_type": "markdown",
   "metadata": {},
   "source": [
    "# Section 3: Lists\n",
    "****"
   ]
  },
  {
   "cell_type": "markdown",
   "metadata": {},
   "source": [
    "#### 25. Define and print a list named `random_list` that contains the following elements: 27, 3.14, \"Apple\", and \"Pineapple\". Print it and print its type. "
   ]
  },
  {
   "cell_type": "code",
   "execution_count": 16,
   "metadata": {},
   "outputs": [
    {
     "name": "stdout",
     "output_type": "stream",
     "text": [
      "[27, 3.14, 'Apple', 'Pineapple']\n",
      "<class 'list'>\n"
     ]
    }
   ],
   "source": [
    "random_list = [27, 3.14, \"Apple\", \"Pineapple\"]\n",
    "print(random_list)\n",
    "print(type(random_list))"
   ]
  },
  {
   "cell_type": "markdown",
   "metadata": {},
   "source": [
    "#### 26. Index `random_list` so just 3.14 is returned."
   ]
  },
  {
   "cell_type": "code",
   "execution_count": 17,
   "metadata": {},
   "outputs": [
    {
     "data": {
      "text/plain": [
       "3.14"
      ]
     },
     "execution_count": 17,
     "metadata": {},
     "output_type": "execute_result"
    }
   ],
   "source": [
    "random_list[1]"
   ]
  },
  {
   "cell_type": "markdown",
   "metadata": {},
   "source": [
    "#### 27. Slice `random_list` so 3.14 *and* Pineapple are returned. (HINT: use a stride in your slice!)"
   ]
  },
  {
   "cell_type": "code",
   "execution_count": 18,
   "metadata": {},
   "outputs": [
    {
     "data": {
      "text/plain": [
       "[3.14, 'Pineapple']"
      ]
     },
     "execution_count": 18,
     "metadata": {},
     "output_type": "execute_result"
    }
   ],
   "source": [
    "random_list[1::2]"
   ]
  },
  {
   "cell_type": "markdown",
   "metadata": {},
   "source": [
    "#### 28. Define a string named `college` that contains the string \"UC Berkeley\". Print it."
   ]
  },
  {
   "cell_type": "code",
   "execution_count": 19,
   "metadata": {},
   "outputs": [
    {
     "name": "stdout",
     "output_type": "stream",
     "text": [
      "UC Berkeley\n"
     ]
    }
   ],
   "source": [
    "college = \"UC Berkeley\"\n",
    "print(college)"
   ]
  },
  {
   "cell_type": "markdown",
   "metadata": {},
   "source": [
    "#### 29. Use the `.append` method on `random_list` to add the text inside the variable `college` (\"UC Berkeley\") to `random_list`. Print it.\n",
    "\n",
    "> HINT: If this starts to get messy, go back to Question # 25 and re-define `random_list` to clean up. \n",
    "\n",
    "Your final output should look like this: `[27, 3.14, 'Apple', 'Pineapple', 'UC Berkeley']`"
   ]
  },
  {
   "cell_type": "code",
   "execution_count": 20,
   "metadata": {},
   "outputs": [
    {
     "name": "stdout",
     "output_type": "stream",
     "text": [
      "[27, 3.14, 'Apple', 'Pineapple', 'UC Berkeley']\n"
     ]
    }
   ],
   "source": [
    "random_list.append(college)\n",
    "print(random_list)"
   ]
  },
  {
   "cell_type": "markdown",
   "metadata": {},
   "source": [
    "# Section 4: Dictionaries\n",
    "****"
   ]
  },
  {
   "cell_type": "markdown",
   "metadata": {},
   "source": [
    "#### 30. Define a dictionary named `dairy` that contains two key:value pairs. The keys should be named \"Yogurt\" and \"Milk\", and the two values should be 9.99 and 4.99."
   ]
  },
  {
   "cell_type": "code",
   "execution_count": 21,
   "metadata": {},
   "outputs": [
    {
     "data": {
      "text/plain": [
       "{'Yogurt': 9.99, 'Milk': 4.99}"
      ]
     },
     "execution_count": 21,
     "metadata": {},
     "output_type": "execute_result"
    }
   ],
   "source": [
    "dairy = {\"Yogurt\":9.99, \"Milk\":4.99}\n",
    "dairy"
   ]
  },
  {
   "cell_type": "markdown",
   "metadata": {},
   "source": [
    "#### 31. Define a dictionary named `butcher` that contains two key:value pairs. The keys should be named \"Meat\" and \"Fish\", and the two values should be 19.99 and 17.99."
   ]
  },
  {
   "cell_type": "code",
   "execution_count": 22,
   "metadata": {},
   "outputs": [
    {
     "data": {
      "text/plain": [
       "{'Meat': 19.99, 'Fish': 17.99}"
      ]
     },
     "execution_count": 22,
     "metadata": {},
     "output_type": "execute_result"
    }
   ],
   "source": [
    "butcher = {\"Meat\":19.99, \"Fish\": 17.99}\n",
    "butcher"
   ]
  },
  {
   "cell_type": "markdown",
   "metadata": {},
   "source": [
    "#### 32. Define a dictionary named `produce` that contains two key:value pairs. The keys should be named \"Tomato\" and \"Onion\", and the two values should be 2.99 and 1.99."
   ]
  },
  {
   "cell_type": "code",
   "execution_count": 23,
   "metadata": {},
   "outputs": [
    {
     "data": {
      "text/plain": [
       "{'Tomato': 2.99, 'Onion': 1.99}"
      ]
     },
     "execution_count": 23,
     "metadata": {},
     "output_type": "execute_result"
    }
   ],
   "source": [
    "produce = {\"Tomato\":2.99, \"Onion\":1.99}\n",
    "produce"
   ]
  },
  {
   "cell_type": "markdown",
   "metadata": {},
   "source": [
    "#### 33. Define a dictionary named `bakery` that contains two key:value pairs. The keys should be named \"Baguette\" and \"Cake\", and the two values should be 5.99 and 11.99."
   ]
  },
  {
   "cell_type": "code",
   "execution_count": 24,
   "metadata": {},
   "outputs": [
    {
     "data": {
      "text/plain": [
       "{'Baguette': 5.99, 'Cake': 11.99}"
      ]
     },
     "execution_count": 24,
     "metadata": {},
     "output_type": "execute_result"
    }
   ],
   "source": [
    "bakery = {\"Baguette\":5.99, \"Cake\":11.99}\n",
    "bakery"
   ]
  },
  {
   "cell_type": "markdown",
   "metadata": {},
   "source": [
    "#### 34. Define a dictionary named `market` that contains the dictionaries `dairy`, `butcher`, `produce`, and `bakery`."
   ]
  },
  {
   "cell_type": "code",
   "execution_count": 25,
   "metadata": {},
   "outputs": [
    {
     "data": {
      "text/plain": [
       "{'Dairy': {'Yogurt': 9.99, 'Milk': 4.99},\n",
       " 'Butcher': {'Meat': 19.99, 'Fish': 17.99},\n",
       " 'Produce': {'Tomato': 2.99, 'Onion': 1.99},\n",
       " 'Bakery': {'Baguette': 5.99, 'Cake': 11.99}}"
      ]
     },
     "execution_count": 25,
     "metadata": {},
     "output_type": "execute_result"
    }
   ],
   "source": [
    "market = {\"Dairy\": dairy, \"Butcher\": butcher, \"Produce\": produce, \"Bakery\": bakery}\n",
    "market"
   ]
  },
  {
   "cell_type": "markdown",
   "metadata": {},
   "source": [
    "#### 35. Index just the price for Cake (11.99)"
   ]
  },
  {
   "cell_type": "code",
   "execution_count": 26,
   "metadata": {},
   "outputs": [
    {
     "data": {
      "text/plain": [
       "11.99"
      ]
     },
     "execution_count": 26,
     "metadata": {},
     "output_type": "execute_result"
    }
   ],
   "source": [
    "market[\"Bakery\"][\"Cake\"]"
   ]
  },
  {
   "cell_type": "markdown",
   "metadata": {},
   "source": [
    "#### 36. Index the price for Cake (11.99) and for Onion (1.99)"
   ]
  },
  {
   "cell_type": "code",
   "execution_count": 27,
   "metadata": {},
   "outputs": [
    {
     "name": "stdout",
     "output_type": "stream",
     "text": [
      "11.99 1.99\n"
     ]
    }
   ],
   "source": [
    "print(market[\"Bakery\"][\"Cake\"], market[\"Produce\"][\"Onion\"])"
   ]
  },
  {
   "cell_type": "markdown",
   "metadata": {
    "collapsed": true
   },
   "source": [
    "# Section 5: Pandas\n",
    "****"
   ]
  },
  {
   "cell_type": "markdown",
   "metadata": {},
   "source": [
    "#### 37. Type the code to install the pandas library from inside a Jupyter Notebook."
   ]
  },
  {
   "cell_type": "code",
   "execution_count": 28,
   "metadata": {},
   "outputs": [],
   "source": [
    "#!pip install pandas"
   ]
  },
  {
   "cell_type": "markdown",
   "metadata": {
    "collapsed": true
   },
   "source": [
    "#### 38. Type the code to import the pandas library as the alias pd"
   ]
  },
  {
   "cell_type": "code",
   "execution_count": 29,
   "metadata": {},
   "outputs": [],
   "source": [
    "import pandas as pd"
   ]
  },
  {
   "cell_type": "markdown",
   "metadata": {
    "collapsed": true
   },
   "source": [
    "#### 39. Type code to get help with pandas."
   ]
  },
  {
   "cell_type": "code",
   "execution_count": 30,
   "metadata": {},
   "outputs": [],
   "source": [
    "#help(pd)\n",
    "pd?"
   ]
  },
  {
   "cell_type": "markdown",
   "metadata": {},
   "source": [
    "#### 40. Use a dictionary to create a DataFrame in a variable named `example`. The final output should look like this:\n",
    "\n",
    "<img src=\"df.png\">"
   ]
  },
  {
   "cell_type": "code",
   "execution_count": 31,
   "metadata": {},
   "outputs": [
    {
     "data": {
      "text/html": [
       "<div>\n",
       "<style scoped>\n",
       "    .dataframe tbody tr th:only-of-type {\n",
       "        vertical-align: middle;\n",
       "    }\n",
       "\n",
       "    .dataframe tbody tr th {\n",
       "        vertical-align: top;\n",
       "    }\n",
       "\n",
       "    .dataframe thead th {\n",
       "        text-align: right;\n",
       "    }\n",
       "</style>\n",
       "<table border=\"1\" class=\"dataframe\">\n",
       "  <thead>\n",
       "    <tr style=\"text-align: right;\">\n",
       "      <th></th>\n",
       "      <th>A</th>\n",
       "      <th>B</th>\n",
       "    </tr>\n",
       "  </thead>\n",
       "  <tbody>\n",
       "    <tr>\n",
       "      <th>0</th>\n",
       "      <td>1</td>\n",
       "      <td>4</td>\n",
       "    </tr>\n",
       "    <tr>\n",
       "      <th>1</th>\n",
       "      <td>4</td>\n",
       "      <td>8</td>\n",
       "    </tr>\n",
       "    <tr>\n",
       "      <th>2</th>\n",
       "      <td>9</td>\n",
       "      <td>23</td>\n",
       "    </tr>\n",
       "    <tr>\n",
       "      <th>3</th>\n",
       "      <td>23</td>\n",
       "      <td>25</td>\n",
       "    </tr>\n",
       "  </tbody>\n",
       "</table>\n",
       "</div>"
      ],
      "text/plain": [
       "    A   B\n",
       "0   1   4\n",
       "1   4   8\n",
       "2   9  23\n",
       "3  23  25"
      ]
     },
     "execution_count": 31,
     "metadata": {},
     "output_type": "execute_result"
    }
   ],
   "source": [
    "example = pd.DataFrame(data={\"A\":[1, 4, 9, 23], \"B\":[4, 8, 23, 25]})\n",
    "example"
   ]
  },
  {
   "cell_type": "markdown",
   "metadata": {},
   "source": [
    "#### 41. Load the `gapminder.tsv` file from the Week2 data folder.\n",
    "#### Save it in a variable named `gap`. Use the `.head` method to print the first 7 rows. "
   ]
  },
  {
   "cell_type": "code",
   "execution_count": 32,
   "metadata": {},
   "outputs": [
    {
     "data": {
      "text/html": [
       "<div>\n",
       "<style scoped>\n",
       "    .dataframe tbody tr th:only-of-type {\n",
       "        vertical-align: middle;\n",
       "    }\n",
       "\n",
       "    .dataframe tbody tr th {\n",
       "        vertical-align: top;\n",
       "    }\n",
       "\n",
       "    .dataframe thead th {\n",
       "        text-align: right;\n",
       "    }\n",
       "</style>\n",
       "<table border=\"1\" class=\"dataframe\">\n",
       "  <thead>\n",
       "    <tr style=\"text-align: right;\">\n",
       "      <th></th>\n",
       "      <th>country</th>\n",
       "      <th>continent</th>\n",
       "      <th>year</th>\n",
       "      <th>lifeExp</th>\n",
       "      <th>pop</th>\n",
       "      <th>gdpPercap</th>\n",
       "    </tr>\n",
       "  </thead>\n",
       "  <tbody>\n",
       "    <tr>\n",
       "      <th>0</th>\n",
       "      <td>Afghanistan</td>\n",
       "      <td>Asia</td>\n",
       "      <td>1952</td>\n",
       "      <td>28.801</td>\n",
       "      <td>8425333.0</td>\n",
       "      <td>779.445314</td>\n",
       "    </tr>\n",
       "    <tr>\n",
       "      <th>1</th>\n",
       "      <td>Afghanistan</td>\n",
       "      <td>Asia</td>\n",
       "      <td>1957</td>\n",
       "      <td>30.332</td>\n",
       "      <td>9240934.0</td>\n",
       "      <td>820.853030</td>\n",
       "    </tr>\n",
       "    <tr>\n",
       "      <th>2</th>\n",
       "      <td>Afghanistan</td>\n",
       "      <td>Asia</td>\n",
       "      <td>1962</td>\n",
       "      <td>31.997</td>\n",
       "      <td>10267083.0</td>\n",
       "      <td>853.100710</td>\n",
       "    </tr>\n",
       "    <tr>\n",
       "      <th>3</th>\n",
       "      <td>Afghanistan</td>\n",
       "      <td>Asia</td>\n",
       "      <td>1967</td>\n",
       "      <td>34.020</td>\n",
       "      <td>11537966.0</td>\n",
       "      <td>836.197138</td>\n",
       "    </tr>\n",
       "    <tr>\n",
       "      <th>4</th>\n",
       "      <td>Afghanistan</td>\n",
       "      <td>Asia</td>\n",
       "      <td>1972</td>\n",
       "      <td>36.088</td>\n",
       "      <td>13079460.0</td>\n",
       "      <td>739.981106</td>\n",
       "    </tr>\n",
       "    <tr>\n",
       "      <th>5</th>\n",
       "      <td>Afghanistan</td>\n",
       "      <td>Asia</td>\n",
       "      <td>1977</td>\n",
       "      <td>38.438</td>\n",
       "      <td>14880372.0</td>\n",
       "      <td>786.113360</td>\n",
       "    </tr>\n",
       "    <tr>\n",
       "      <th>6</th>\n",
       "      <td>Afghanistan</td>\n",
       "      <td>Asia</td>\n",
       "      <td>1982</td>\n",
       "      <td>39.854</td>\n",
       "      <td>12881816.0</td>\n",
       "      <td>978.011439</td>\n",
       "    </tr>\n",
       "  </tbody>\n",
       "</table>\n",
       "</div>"
      ],
      "text/plain": [
       "       country continent  year  lifeExp         pop   gdpPercap\n",
       "0  Afghanistan      Asia  1952   28.801   8425333.0  779.445314\n",
       "1  Afghanistan      Asia  1957   30.332   9240934.0  820.853030\n",
       "2  Afghanistan      Asia  1962   31.997  10267083.0  853.100710\n",
       "3  Afghanistan      Asia  1967   34.020  11537966.0  836.197138\n",
       "4  Afghanistan      Asia  1972   36.088  13079460.0  739.981106\n",
       "5  Afghanistan      Asia  1977   38.438  14880372.0  786.113360\n",
       "6  Afghanistan      Asia  1982   39.854  12881816.0  978.011439"
      ]
     },
     "execution_count": 32,
     "metadata": {},
     "output_type": "execute_result"
    }
   ],
   "source": [
    "gap = pd.read_csv(\"./DIGHUM101/Week2/data/gapminder.tsv\", sep=\"\\t\") #Or wherever the file is located\n",
    "gap.head(7)"
   ]
  },
  {
   "cell_type": "markdown",
   "metadata": {
    "collapsed": true
   },
   "source": [
    "#### 42. Subset `gap` to create a subsetted dataframe named `usa` that contains only data where the \"country\" column is equal to \"United States\". Print it."
   ]
  },
  {
   "cell_type": "code",
   "execution_count": 33,
   "metadata": {},
   "outputs": [
    {
     "name": "stdout",
     "output_type": "stream",
     "text": [
      "            country continent  year  lifeExp          pop    gdpPercap\n",
      "1608  United States  Americas  1952   68.440  157553000.0  13990.48208\n",
      "1609  United States  Americas  1957   69.490  171984000.0  14847.12712\n",
      "1610  United States  Americas  1962   70.210  186538000.0  16173.14586\n",
      "1611  United States  Americas  1967   70.760  198712000.0  19530.36557\n",
      "1612  United States  Americas  1972   71.340  209896000.0  21806.03594\n",
      "1613  United States  Americas  1977   73.380  220239000.0  24072.63213\n",
      "1614  United States  Americas  1982   74.650  232187835.0  25009.55914\n",
      "1615  United States  Americas  1987   75.020  242803533.0  29884.35041\n",
      "1616  United States  Americas  1992   76.090  256894189.0  32003.93224\n",
      "1617  United States  Americas  1997   76.810  272911760.0  35767.43303\n",
      "1618  United States  Americas  2002   77.310  287675526.0  39097.09955\n",
      "1619  United States  Americas  2007   78.242  301139947.0  42951.65309\n"
     ]
    }
   ],
   "source": [
    "usa = gap[gap.country == \"United States\"]\n",
    "print(usa)"
   ]
  },
  {
   "cell_type": "markdown",
   "metadata": {},
   "source": [
    "#### 43. Subset `gap` to create a subsetted dataframe named `mexico` that contains only data where the \"country\" column is equal to \"Mexico\". Print it."
   ]
  },
  {
   "cell_type": "code",
   "execution_count": 34,
   "metadata": {},
   "outputs": [
    {
     "name": "stdout",
     "output_type": "stream",
     "text": [
      "    country continent  year  lifeExp          pop     gdpPercap\n",
      "984  Mexico  Americas  1952   50.789   30144317.0   3478.125529\n",
      "985  Mexico  Americas  1957   55.190   35015548.0   4131.546641\n",
      "986  Mexico  Americas  1962   58.299   41121485.0   4581.609385\n",
      "987  Mexico  Americas  1967   60.110   47995559.0   5754.733883\n",
      "988  Mexico  Americas  1972   62.361   55984294.0   6809.406690\n",
      "989  Mexico  Americas  1977   65.032   63759976.0   7674.929108\n",
      "990  Mexico  Americas  1982   67.405   71640904.0   9611.147541\n",
      "991  Mexico  Americas  1987   69.498   80122492.0   8688.156003\n",
      "992  Mexico  Americas  1992   71.455   88111030.0   9472.384295\n",
      "993  Mexico  Americas  1997   73.670   95895146.0   9767.297530\n",
      "994  Mexico  Americas  2002   74.902  102479927.0  10742.440530\n",
      "995  Mexico  Americas  2007   76.195  108700891.0  11977.574960\n"
     ]
    }
   ],
   "source": [
    "mexico = gap[gap.country == \"Mexico\"]\n",
    "print(mexico)"
   ]
  },
  {
   "cell_type": "markdown",
   "metadata": {},
   "source": [
    "#### 44. Subset `gap` to create a subsetted dataframe named `canada` that contains only data where the \"country\" column is equal to \"Canada\". Print it."
   ]
  },
  {
   "cell_type": "code",
   "execution_count": 35,
   "metadata": {},
   "outputs": [
    {
     "name": "stdout",
     "output_type": "stream",
     "text": [
      "    country continent  year  lifeExp         pop    gdpPercap\n",
      "240  Canada  Americas  1952   68.750  14785584.0  11367.16112\n",
      "241  Canada  Americas  1957   69.960  17010154.0  12489.95006\n",
      "242  Canada  Americas  1962   71.300  18985849.0  13462.48555\n",
      "243  Canada  Americas  1967   72.130  20819767.0  16076.58803\n",
      "244  Canada  Americas  1972   72.880  22284500.0  18970.57086\n",
      "245  Canada  Americas  1977   74.210  23796400.0  22090.88306\n",
      "246  Canada  Americas  1982   75.760  25201900.0  22898.79214\n",
      "247  Canada  Americas  1987   76.860  26549700.0  26626.51503\n",
      "248  Canada  Americas  1992   77.950  28523502.0  26342.88426\n",
      "249  Canada  Americas  1997   78.610  30305843.0  28954.92589\n",
      "250  Canada  Americas  2002   79.770  31902268.0  33328.96507\n",
      "251  Canada  Americas  2007   80.653  33390141.0  36319.23501\n"
     ]
    }
   ],
   "source": [
    "canada = gap[gap.country ==\"Canada\"]\n",
    "print(canada)"
   ]
  },
  {
   "cell_type": "markdown",
   "metadata": {},
   "source": [
    "#### 45. Type the code to install matplotlib"
   ]
  },
  {
   "cell_type": "code",
   "execution_count": 36,
   "metadata": {},
   "outputs": [],
   "source": [
    "#!pip install matplotlib"
   ]
  },
  {
   "cell_type": "markdown",
   "metadata": {},
   "source": [
    "#### 46. Type the code to import the pyplot matplotlib module as the alias plt"
   ]
  },
  {
   "cell_type": "code",
   "execution_count": 37,
   "metadata": {},
   "outputs": [],
   "source": [
    "from matplotlib import pyplot as plt"
   ]
  },
  {
   "cell_type": "markdown",
   "metadata": {},
   "source": [
    "#### 47. Create a line graph that contains lifeExp on the y-axis and year on the x-axis. You should have three lines, one for each country `usa`, `mexico`, and `canada`. Your final graph should look something like this: \n",
    "\n",
    "<img src=\"lines.png\">"
   ]
  },
  {
   "cell_type": "code",
   "execution_count": 38,
   "metadata": {},
   "outputs": [
    {
     "data": {
      "image/png": "[encoded data removed]",
      "text/plain": [
       "<Figure size 1440x360 with 1 Axes>"
      ]
     },
     "metadata": {
      "needs_background": "light"
     },
     "output_type": "display_data"
    }
   ],
   "source": [
    "plt.figure(figsize=(20, 5))\n",
    "plt.plot(usa[\"year\"], usa[\"lifeExp\"], label=\"USA\")\n",
    "plt.plot(mexico[\"year\"], mexico[\"lifeExp\"], label=\"Mexico\")\n",
    "plt.plot(canada[\"year\"], canada[\"lifeExp\"], label=\"Canada\")\n",
    "plt.xlabel(\"Time (Years)\")\n",
    "plt.ylabel(\"Life Expectancy (Years)\")\n",
    "plt.title(\"Life Expectancy in USA, Mexico, and Canada\")\n",
    "plt.legend(loc = \"lower right\"); #aesthetics"
   ]
  },
  {
   "cell_type": "markdown",
   "metadata": {},
   "source": [
    "# Section 6. Text preprocessing\n",
    "****"
   ]
  },
  {
   "cell_type": "markdown",
   "metadata": {},
   "source": [
    "#### 48. Load the \"fiji2014.txt\" file from the Week1 data folder. Save it in a variable named `fiji`"
   ]
  },
  {
   "cell_type": "code",
   "execution_count": 39,
   "metadata": {},
   "outputs": [],
   "source": [
    "fiji = open(\"./DIGHUM101/Week1/data/fiji2014.txt\", \"r\", encoding=\"utf-8\").read() #Or wherever the file is located"
   ]
  },
  {
   "cell_type": "markdown",
   "metadata": {},
   "source": [
    "#### 49. Import the punctuation module from the string library"
   ]
  },
  {
   "cell_type": "code",
   "execution_count": 40,
   "metadata": {},
   "outputs": [],
   "source": [
    "from string import punctuation"
   ]
  },
  {
   "cell_type": "markdown",
   "metadata": {},
   "source": [
    "#### 50. Remove the punctuation from `fiji`"
   ]
  },
  {
   "cell_type": "code",
   "execution_count": 41,
   "metadata": {},
   "outputs": [],
   "source": [
    "for char in punctuation:\n",
    "    fiji = fiji.replace(char, \"\")"
   ]
  },
  {
   "cell_type": "markdown",
   "metadata": {},
   "source": [
    "#### 51. Import the `word_tokenize` function from the nltk library"
   ]
  },
  {
   "cell_type": "code",
   "execution_count": 42,
   "metadata": {},
   "outputs": [],
   "source": [
    "import nltk\n",
    "from nltk.tokenize import word_tokenize"
   ]
  },
  {
   "cell_type": "markdown",
   "metadata": {},
   "source": [
    "#### 52. Tokenize `fiji` using `word_tokenize`. Save the tokens in a variable named `tokens`"
   ]
  },
  {
   "cell_type": "code",
   "execution_count": 43,
   "metadata": {},
   "outputs": [],
   "source": [
    "tokens = word_tokenize(fiji)"
   ]
  },
  {
   "cell_type": "markdown",
   "metadata": {},
   "source": [
    "#### 53. How many words are found in `tokens`?"
   ]
  },
  {
   "cell_type": "code",
   "execution_count": 44,
   "metadata": {},
   "outputs": [
    {
     "data": {
      "text/plain": [
       "9967"
      ]
     },
     "execution_count": 44,
     "metadata": {},
     "output_type": "execute_result"
    }
   ],
   "source": [
    "len(tokens)"
   ]
  },
  {
   "cell_type": "markdown",
   "metadata": {},
   "source": [
    "#### 54. Import the `sent_tokenize` function from the nltk library"
   ]
  },
  {
   "cell_type": "code",
   "execution_count": 45,
   "metadata": {},
   "outputs": [],
   "source": [
    "from nltk.tokenize import sent_tokenize"
   ]
  },
  {
   "cell_type": "markdown",
   "metadata": {},
   "source": [
    "#### 55. Perform sentence segmentation on `fiji`. Save the segmented sentences in a variable named `sentences`"
   ]
  },
  {
   "cell_type": "code",
   "execution_count": 46,
   "metadata": {},
   "outputs": [],
   "source": [
    "sentences = sent_tokenize(fiji)"
   ]
  },
  {
   "cell_type": "markdown",
   "metadata": {},
   "source": [
    "#### 56. How many sentences are there in `fiji`? \n",
    "\n",
    "> HINT: Was this the answer you expected? See Question # 50 for help"
   ]
  },
  {
   "cell_type": "code",
   "execution_count": 47,
   "metadata": {},
   "outputs": [
    {
     "data": {
      "text/plain": [
       "1"
      ]
     },
     "execution_count": 47,
     "metadata": {},
     "output_type": "execute_result"
    }
   ],
   "source": [
    "len(sentences) #I removed all punctuation so it thinks it is one big sentence."
   ]
  },
  {
   "cell_type": "markdown",
   "metadata": {},
   "source": [
    "#### 57. Type the code to import nltk and download the \"stopwords\", \"punked\", and \"averaged_perceptron_tagger\" modules. "
   ]
  },
  {
   "cell_type": "code",
   "execution_count": 48,
   "metadata": {},
   "outputs": [
    {
     "name": "stderr",
     "output_type": "stream",
     "text": [
      "[nltk_data] Downloading package stopwords to\n",
      "[nltk_data]     /Users/eunice/nltk_data...\n",
      "[nltk_data]   Package stopwords is already up-to-date!\n",
      "[nltk_data] Downloading package punkt to /Users/eunice/nltk_data...\n",
      "[nltk_data]   Package punkt is already up-to-date!\n",
      "[nltk_data] Downloading package averaged_perceptron_tagger to\n",
      "[nltk_data]     /Users/eunice/nltk_data...\n",
      "[nltk_data]   Package averaged_perceptron_tagger is already up-to-\n",
      "[nltk_data]       date!\n"
     ]
    },
    {
     "data": {
      "text/plain": [
       "True"
      ]
     },
     "execution_count": 48,
     "metadata": {},
     "output_type": "execute_result"
    }
   ],
   "source": [
    "import nltk\n",
    "nltk.download(\"stopwords\")\n",
    "nltk.download(\"punkt\")\n",
    "nltk.download(\"averaged_perceptron_tagger\")"
   ]
  },
  {
   "cell_type": "markdown",
   "metadata": {},
   "source": [
    "#### 58. Import the stopwords module from nltk"
   ]
  },
  {
   "cell_type": "code",
   "execution_count": 49,
   "metadata": {},
   "outputs": [],
   "source": [
    "from nltk.corpus import stopwords"
   ]
  },
  {
   "cell_type": "markdown",
   "metadata": {},
   "source": [
    "#### 59. Remove the stopwords from `fiji`. Copy/paste the below code into a new cell to define the stopwords. Also, copy the list comprehension below into a new cell to remove the stopwords in `tokens`\n",
    "\n",
    "stop = stopwords.words(\"english\")  \n",
    "stop\n",
    "\n",
    "no_stops = [word for word in tokens if word not in stopwords.words('english')]  \n",
    "no_stops"
   ]
  },
  {
   "cell_type": "code",
   "execution_count": 50,
   "metadata": {},
   "outputs": [
    {
     "data": {
      "text/plain": [
       "['i',\n",
       " 'me',\n",
       " 'my',\n",
       " 'myself',\n",
       " 'we',\n",
       " 'our',\n",
       " 'ours',\n",
       " 'ourselves',\n",
       " 'you',\n",
       " \"you're\",\n",
       " \"you've\",\n",
       " \"you'll\",\n",
       " \"you'd\",\n",
       " 'your',\n",
       " 'yours',\n",
       " 'yourself',\n",
       " 'yourselves',\n",
       " 'he',\n",
       " 'him',\n",
       " 'his',\n",
       " 'himself',\n",
       " 'she',\n",
       " \"she's\",\n",
       " 'her',\n",
       " 'hers',\n",
       " 'herself',\n",
       " 'it',\n",
       " \"it's\",\n",
       " 'its',\n",
       " 'itself',\n",
       " 'they',\n",
       " 'them',\n",
       " 'their',\n",
       " 'theirs',\n",
       " 'themselves',\n",
       " 'what',\n",
       " 'which',\n",
       " 'who',\n",
       " 'whom',\n",
       " 'this',\n",
       " 'that',\n",
       " \"that'll\",\n",
       " 'these',\n",
       " 'those',\n",
       " 'am',\n",
       " 'is',\n",
       " 'are',\n",
       " 'was',\n",
       " 'were',\n",
       " 'be',\n",
       " 'been',\n",
       " 'being',\n",
       " 'have',\n",
       " 'has',\n",
       " 'had',\n",
       " 'having',\n",
       " 'do',\n",
       " 'does',\n",
       " 'did',\n",
       " 'doing',\n",
       " 'a',\n",
       " 'an',\n",
       " 'the',\n",
       " 'and',\n",
       " 'but',\n",
       " 'if',\n",
       " 'or',\n",
       " 'because',\n",
       " 'as',\n",
       " 'until',\n",
       " 'while',\n",
       " 'of',\n",
       " 'at',\n",
       " 'by',\n",
       " 'for',\n",
       " 'with',\n",
       " 'about',\n",
       " 'against',\n",
       " 'between',\n",
       " 'into',\n",
       " 'through',\n",
       " 'during',\n",
       " 'before',\n",
       " 'after',\n",
       " 'above',\n",
       " 'below',\n",
       " 'to',\n",
       " 'from',\n",
       " 'up',\n",
       " 'down',\n",
       " 'in',\n",
       " 'out',\n",
       " 'on',\n",
       " 'off',\n",
       " 'over',\n",
       " 'under',\n",
       " 'again',\n",
       " 'further',\n",
       " 'then',\n",
       " 'once',\n",
       " 'here',\n",
       " 'there',\n",
       " 'when',\n",
       " 'where',\n",
       " 'why',\n",
       " 'how',\n",
       " 'all',\n",
       " 'any',\n",
       " 'both',\n",
       " 'each',\n",
       " 'few',\n",
       " 'more',\n",
       " 'most',\n",
       " 'other',\n",
       " 'some',\n",
       " 'such',\n",
       " 'no',\n",
       " 'nor',\n",
       " 'not',\n",
       " 'only',\n",
       " 'own',\n",
       " 'same',\n",
       " 'so',\n",
       " 'than',\n",
       " 'too',\n",
       " 'very',\n",
       " 's',\n",
       " 't',\n",
       " 'can',\n",
       " 'will',\n",
       " 'just',\n",
       " 'don',\n",
       " \"don't\",\n",
       " 'should',\n",
       " \"should've\",\n",
       " 'now',\n",
       " 'd',\n",
       " 'll',\n",
       " 'm',\n",
       " 'o',\n",
       " 're',\n",
       " 've',\n",
       " 'y',\n",
       " 'ain',\n",
       " 'aren',\n",
       " \"aren't\",\n",
       " 'couldn',\n",
       " \"couldn't\",\n",
       " 'didn',\n",
       " \"didn't\",\n",
       " 'doesn',\n",
       " \"doesn't\",\n",
       " 'hadn',\n",
       " \"hadn't\",\n",
       " 'hasn',\n",
       " \"hasn't\",\n",
       " 'haven',\n",
       " \"haven't\",\n",
       " 'isn',\n",
       " \"isn't\",\n",
       " 'ma',\n",
       " 'mightn',\n",
       " \"mightn't\",\n",
       " 'mustn',\n",
       " \"mustn't\",\n",
       " 'needn',\n",
       " \"needn't\",\n",
       " 'shan',\n",
       " \"shan't\",\n",
       " 'shouldn',\n",
       " \"shouldn't\",\n",
       " 'wasn',\n",
       " \"wasn't\",\n",
       " 'weren',\n",
       " \"weren't\",\n",
       " 'won',\n",
       " \"won't\",\n",
       " 'wouldn',\n",
       " \"wouldn't\"]"
      ]
     },
     "execution_count": 50,
     "metadata": {},
     "output_type": "execute_result"
    }
   ],
   "source": [
    "stop = stopwords.words(\"english\")\n",
    "stop"
   ]
  },
  {
   "cell_type": "code",
   "execution_count": 51,
   "metadata": {},
   "outputs": [
    {
     "data": {
      "text/plain": [
       "['United',\n",
       " 'Nations',\n",
       " 'AHRC288',\n",
       " 'General',\n",
       " 'Assembly',\n",
       " 'Distr',\n",
       " 'General',\n",
       " '17',\n",
       " 'December',\n",
       " '2014',\n",
       " 'Original',\n",
       " 'English',\n",
       " 'Human',\n",
       " 'Rights',\n",
       " 'Council',\n",
       " 'Twentyeighth',\n",
       " 'session',\n",
       " 'Agenda',\n",
       " 'item',\n",
       " '6',\n",
       " 'Universal',\n",
       " 'Periodic',\n",
       " 'Review',\n",
       " 'Report',\n",
       " 'Working',\n",
       " 'Group',\n",
       " 'Universal',\n",
       " 'Periodic',\n",
       " 'Review',\n",
       " 'The',\n",
       " 'annex',\n",
       " 'present',\n",
       " 'report',\n",
       " 'circulated',\n",
       " 'received',\n",
       " 'Fiji',\n",
       " 'Contents',\n",
       " 'Paragraphs',\n",
       " 'Page',\n",
       " 'Introduction',\n",
       " '1Ð4',\n",
       " '3',\n",
       " 'I',\n",
       " 'Summary',\n",
       " 'proceedings',\n",
       " 'review',\n",
       " 'process',\n",
       " '5Ð98',\n",
       " '3',\n",
       " 'A',\n",
       " 'Presentation',\n",
       " 'State',\n",
       " 'review',\n",
       " '5Ð20',\n",
       " '3',\n",
       " 'B',\n",
       " 'Interactive',\n",
       " 'dialogue',\n",
       " 'responses',\n",
       " 'State',\n",
       " 'review',\n",
       " '21Ð98',\n",
       " '5',\n",
       " 'II',\n",
       " 'Conclusions',\n",
       " 'andor',\n",
       " 'recommendations',\n",
       " '99Ð102',\n",
       " '13',\n",
       " 'Annex',\n",
       " 'Composition',\n",
       " 'delegation',\n",
       " '24',\n",
       " 'Introduction',\n",
       " '1',\n",
       " 'The',\n",
       " 'Working',\n",
       " 'Group',\n",
       " 'Universal',\n",
       " 'Periodic',\n",
       " 'Review',\n",
       " 'established',\n",
       " 'accordance',\n",
       " 'Human',\n",
       " 'Rights',\n",
       " 'Council',\n",
       " 'resolution',\n",
       " '51',\n",
       " '18',\n",
       " 'June',\n",
       " '2007',\n",
       " 'held',\n",
       " 'twentieth',\n",
       " 'session',\n",
       " '27',\n",
       " 'October',\n",
       " '7',\n",
       " 'November',\n",
       " '2014',\n",
       " 'The',\n",
       " 'review',\n",
       " 'Fiji',\n",
       " 'held',\n",
       " '5th',\n",
       " 'meeting',\n",
       " '29',\n",
       " 'October',\n",
       " '2014',\n",
       " 'The',\n",
       " 'delegation',\n",
       " 'Fiji',\n",
       " 'headed',\n",
       " 'Aiyaz',\n",
       " 'SayedKhaiyum',\n",
       " 'AttorneyGeneral',\n",
       " 'Minister',\n",
       " 'Justice',\n",
       " 'At',\n",
       " '10th',\n",
       " 'meeting',\n",
       " 'held',\n",
       " '31',\n",
       " 'October',\n",
       " '2014',\n",
       " 'Working',\n",
       " 'Group',\n",
       " 'adopted',\n",
       " 'report',\n",
       " 'Fiji',\n",
       " '2',\n",
       " 'On',\n",
       " '15',\n",
       " 'January',\n",
       " '2014',\n",
       " 'Human',\n",
       " 'Rights',\n",
       " 'Council',\n",
       " 'selected',\n",
       " 'following',\n",
       " 'group',\n",
       " 'rapporteurs',\n",
       " 'troika',\n",
       " 'facilitate',\n",
       " 'review',\n",
       " 'Fiji',\n",
       " 'Japan',\n",
       " 'Namibia',\n",
       " 'Russian',\n",
       " 'Federation',\n",
       " '3',\n",
       " 'In',\n",
       " 'accordance',\n",
       " 'paragraph',\n",
       " '15',\n",
       " 'annex',\n",
       " 'resolution',\n",
       " '51',\n",
       " 'paragraph',\n",
       " '5',\n",
       " 'annex',\n",
       " 'resolution',\n",
       " '1621',\n",
       " 'following',\n",
       " 'documents',\n",
       " 'issued',\n",
       " 'review',\n",
       " 'Fiji',\n",
       " 'A',\n",
       " 'national',\n",
       " 'report',\n",
       " 'submittedwritten',\n",
       " 'presentation',\n",
       " 'made',\n",
       " 'accordance',\n",
       " 'paragraph',\n",
       " '15',\n",
       " 'AHRCWG620FJI1',\n",
       " 'b',\n",
       " 'A',\n",
       " 'compilation',\n",
       " 'prepared',\n",
       " 'Office',\n",
       " 'United',\n",
       " 'Nations',\n",
       " 'High',\n",
       " 'Commissioner',\n",
       " 'Human',\n",
       " 'Rights',\n",
       " 'OHCHR',\n",
       " 'accordance',\n",
       " 'paragraph',\n",
       " '15',\n",
       " 'b',\n",
       " 'AHRCWG620FJI2',\n",
       " 'c',\n",
       " 'A',\n",
       " 'summary',\n",
       " 'prepared',\n",
       " 'OHCHR',\n",
       " 'accordance',\n",
       " 'paragraph',\n",
       " '15',\n",
       " 'c',\n",
       " 'AHRCWG620FJI3',\n",
       " '4',\n",
       " 'A',\n",
       " 'list',\n",
       " 'questions',\n",
       " 'prepared',\n",
       " 'advance',\n",
       " 'Belgium',\n",
       " 'Germany',\n",
       " 'Liechtenstein',\n",
       " 'Mexico',\n",
       " 'Netherlands',\n",
       " 'Slovenia',\n",
       " 'Spain',\n",
       " 'United',\n",
       " 'Kingdom',\n",
       " 'Great',\n",
       " 'Britain',\n",
       " 'Northern',\n",
       " 'Ireland',\n",
       " 'transmitted',\n",
       " 'Fiji',\n",
       " 'troika',\n",
       " 'The',\n",
       " 'questions',\n",
       " 'available',\n",
       " 'extranet',\n",
       " 'universal',\n",
       " 'periodic',\n",
       " 'review',\n",
       " 'UPR',\n",
       " 'I',\n",
       " 'Summary',\n",
       " 'proceedings',\n",
       " 'review',\n",
       " 'process',\n",
       " 'A',\n",
       " 'Presentation',\n",
       " 'State',\n",
       " 'review',\n",
       " '5',\n",
       " 'Opening',\n",
       " 'statements',\n",
       " 'Fijian',\n",
       " 'delegation',\n",
       " 'made',\n",
       " 'AttorneyGeneral',\n",
       " 'Minister',\n",
       " 'Justice',\n",
       " 'Chief',\n",
       " 'Justice',\n",
       " 'Director',\n",
       " 'Public',\n",
       " 'Prosecutions',\n",
       " 'Chairman',\n",
       " 'Media',\n",
       " 'Industry',\n",
       " 'Development',\n",
       " 'Authority',\n",
       " '6',\n",
       " 'The',\n",
       " 'commitment',\n",
       " 'Fiji',\n",
       " 'promoting',\n",
       " 'protecting',\n",
       " 'fundamental',\n",
       " 'principles',\n",
       " 'values',\n",
       " 'universal',\n",
       " 'human',\n",
       " 'rights',\n",
       " 'set',\n",
       " 'forth',\n",
       " 'Universal',\n",
       " 'Declaration',\n",
       " 'Human',\n",
       " 'Rights',\n",
       " 'affirmed',\n",
       " 'Fijian',\n",
       " 'Constitution',\n",
       " 'adopted',\n",
       " '7',\n",
       " 'September',\n",
       " '2013',\n",
       " 'The',\n",
       " 'first',\n",
       " 'Constitution',\n",
       " 'Fiji',\n",
       " 'eliminate',\n",
       " 'legal',\n",
       " 'enforcement',\n",
       " 'ethnic',\n",
       " 'voting',\n",
       " 'include',\n",
       " 'social',\n",
       " 'economic',\n",
       " 'rights',\n",
       " 'well',\n",
       " 'civil',\n",
       " 'political',\n",
       " 'rights',\n",
       " 'created',\n",
       " 'transformative',\n",
       " 'human',\n",
       " 'rights',\n",
       " 'normative',\n",
       " 'framework',\n",
       " 'people',\n",
       " 'Fiji',\n",
       " 'Under',\n",
       " 'Constitution',\n",
       " 'State',\n",
       " 'legally',\n",
       " 'obliged',\n",
       " 'protect',\n",
       " 'promote',\n",
       " 'rights',\n",
       " '7',\n",
       " 'Fiji',\n",
       " 'held',\n",
       " 'elections',\n",
       " 'Constitution',\n",
       " '17',\n",
       " 'September',\n",
       " '2014',\n",
       " '846',\n",
       " 'per',\n",
       " 'cent',\n",
       " 'participation',\n",
       " 'rate',\n",
       " 'registered',\n",
       " 'voters',\n",
       " 'record',\n",
       " 'low',\n",
       " '075',\n",
       " 'per',\n",
       " 'cent',\n",
       " 'invalid',\n",
       " 'ballots',\n",
       " 'In',\n",
       " 'preliminary',\n",
       " 'statement',\n",
       " 'Multinational',\n",
       " 'Observer',\n",
       " 'Group',\n",
       " 'deemed',\n",
       " 'elections',\n",
       " 'credible',\n",
       " 'representative',\n",
       " 'Fijian',\n",
       " 'people',\n",
       " '8',\n",
       " 'In',\n",
       " 'addition',\n",
       " 'human',\n",
       " 'rights',\n",
       " 'set',\n",
       " 'forth',\n",
       " 'core',\n",
       " 'international',\n",
       " 'human',\n",
       " 'rights',\n",
       " 'instruments',\n",
       " 'Fiji',\n",
       " 'urged',\n",
       " 'Human',\n",
       " 'Rights',\n",
       " 'Council',\n",
       " 'address',\n",
       " 'emerging',\n",
       " 'human',\n",
       " 'rights',\n",
       " 'issues',\n",
       " 'including',\n",
       " 'transborder',\n",
       " 'impacts',\n",
       " 'climate',\n",
       " 'change',\n",
       " 'asylum',\n",
       " 'policies',\n",
       " 'consequences',\n",
       " 'free',\n",
       " 'trade',\n",
       " 'agreements',\n",
       " 'social',\n",
       " 'economic',\n",
       " 'rights',\n",
       " '9',\n",
       " 'In',\n",
       " 'response',\n",
       " 'questions',\n",
       " 'ratification',\n",
       " 'international',\n",
       " 'human',\n",
       " 'rights',\n",
       " 'instruments',\n",
       " 'Belgium',\n",
       " 'Mexico',\n",
       " 'United',\n",
       " 'Kingdom',\n",
       " 'Fiji',\n",
       " 'confirmed',\n",
       " 'party',\n",
       " 'International',\n",
       " 'Covenant',\n",
       " 'Civil',\n",
       " 'Political',\n",
       " 'Rights',\n",
       " 'International',\n",
       " 'Covenant',\n",
       " 'Economic',\n",
       " 'Social',\n",
       " 'Cultural',\n",
       " 'Rights',\n",
       " 'Convention',\n",
       " 'Torture',\n",
       " 'Other',\n",
       " 'Cruel',\n",
       " 'Inhuman',\n",
       " 'Degrading',\n",
       " 'Treatment',\n",
       " 'Punishment',\n",
       " 'Nonetheless',\n",
       " 'robust',\n",
       " 'Bill',\n",
       " 'Rights',\n",
       " 'Constitution',\n",
       " 'went',\n",
       " 'beyond',\n",
       " 'obligations',\n",
       " 'instruments',\n",
       " 'placed',\n",
       " 'obligation',\n",
       " 'State',\n",
       " 'promote',\n",
       " 'protect',\n",
       " 'rights',\n",
       " 'Fijians',\n",
       " 'Those',\n",
       " 'rights',\n",
       " 'applied',\n",
       " 'directly',\n",
       " 'Fijian',\n",
       " 'judiciary',\n",
       " 'Approval',\n",
       " 'ratification',\n",
       " 'international',\n",
       " 'instruments',\n",
       " 'prerogative',\n",
       " 'Parliament',\n",
       " '10',\n",
       " 'Fiji',\n",
       " 'remained',\n",
       " 'amenable',\n",
       " 'inviting',\n",
       " 'special',\n",
       " 'procedures',\n",
       " 'mandate',\n",
       " 'holders',\n",
       " 'visit',\n",
       " 'country',\n",
       " 'However',\n",
       " 'operating',\n",
       " 'entirely',\n",
       " 'new',\n",
       " 'political',\n",
       " 'social',\n",
       " 'legislative',\n",
       " 'environment',\n",
       " 'Fiji',\n",
       " 'wanted',\n",
       " 'position',\n",
       " 'ratify',\n",
       " 'instruments',\n",
       " 'resources',\n",
       " 'host',\n",
       " 'meet',\n",
       " 'standards',\n",
       " 'mandate',\n",
       " 'holders',\n",
       " 'inviting',\n",
       " '11',\n",
       " 'WomenÕs',\n",
       " 'rights',\n",
       " 'Fiji',\n",
       " 'line',\n",
       " 'Convention',\n",
       " 'Elimination',\n",
       " 'All',\n",
       " 'Forms',\n",
       " 'Discrimination',\n",
       " 'Women',\n",
       " 'CEDAW',\n",
       " 'Fiji',\n",
       " 'ratified',\n",
       " '1995',\n",
       " 'In',\n",
       " 'response',\n",
       " 'questions',\n",
       " 'ten',\n",
       " 'countries',\n",
       " 'steps',\n",
       " 'taken',\n",
       " 'end',\n",
       " 'discrimination',\n",
       " 'violence',\n",
       " 'women',\n",
       " 'Fiji',\n",
       " 'acknowledged',\n",
       " 'challenges',\n",
       " 'posed',\n",
       " 'issues',\n",
       " 'New',\n",
       " 'initiatives',\n",
       " 'included',\n",
       " 'updated',\n",
       " 'provisions',\n",
       " 'Crimes',\n",
       " 'Decree',\n",
       " 'offences',\n",
       " 'rape',\n",
       " 'sexual',\n",
       " 'assault',\n",
       " 'passing',\n",
       " 'application',\n",
       " 'Domestic',\n",
       " 'Violence',\n",
       " 'Decree',\n",
       " 'judicial',\n",
       " 'training',\n",
       " 'new',\n",
       " 'National',\n",
       " 'Gender',\n",
       " 'Policy',\n",
       " 'gender',\n",
       " 'training',\n",
       " 'civil',\n",
       " 'servants',\n",
       " 'Fiji',\n",
       " 'corrected',\n",
       " 'claim',\n",
       " 'made',\n",
       " 'Netherlands',\n",
       " 'Constitution',\n",
       " 'protect',\n",
       " 'women',\n",
       " 'listing',\n",
       " 'newly',\n",
       " 'protected',\n",
       " 'grounds',\n",
       " 'addition',\n",
       " 'sex',\n",
       " 'gender',\n",
       " 'Bill',\n",
       " 'Rights',\n",
       " 'included',\n",
       " 'gender',\n",
       " 'identity',\n",
       " 'expression',\n",
       " 'pregnancy',\n",
       " 'marital',\n",
       " 'status',\n",
       " 'constituted',\n",
       " 'broad',\n",
       " 'protection',\n",
       " 'discrimination',\n",
       " 'women',\n",
       " 'allowing',\n",
       " 'legal',\n",
       " 'expression',\n",
       " 'intersectional',\n",
       " 'discrimination',\n",
       " 'It',\n",
       " 'also',\n",
       " 'clarified',\n",
       " 'higher',\n",
       " 'levels',\n",
       " 'reported',\n",
       " 'cases',\n",
       " 'domestic',\n",
       " 'violence',\n",
       " 'concern',\n",
       " 'raised',\n",
       " 'fact',\n",
       " 'reflected',\n",
       " 'higher',\n",
       " 'reporting',\n",
       " 'victims',\n",
       " 'owing',\n",
       " 'confidence',\n",
       " 'abovementioned',\n",
       " 'initiatives',\n",
       " '12',\n",
       " 'Those',\n",
       " 'measures',\n",
       " 'would',\n",
       " 'meaningful',\n",
       " 'stakeholders',\n",
       " 'played',\n",
       " 'part',\n",
       " 'shaping',\n",
       " 'societyÕs',\n",
       " 'attitudes',\n",
       " 'towards',\n",
       " 'zero',\n",
       " 'tolerance',\n",
       " 'discrimination',\n",
       " 'violence',\n",
       " 'women',\n",
       " 'Training',\n",
       " 'participation',\n",
       " 'police',\n",
       " 'civil',\n",
       " 'society',\n",
       " 'judiciary',\n",
       " 'prosecutors',\n",
       " 'also',\n",
       " 'required',\n",
       " 'It',\n",
       " 'important',\n",
       " 'civil',\n",
       " 'society',\n",
       " 'organizations',\n",
       " 'familiarize',\n",
       " 'laws',\n",
       " 'initiatives',\n",
       " 'empowered',\n",
       " 'represent',\n",
       " 'women',\n",
       " 'legal',\n",
       " 'system',\n",
       " 'Domestic',\n",
       " 'Violence',\n",
       " 'Decree',\n",
       " '13',\n",
       " 'The',\n",
       " 'Domestic',\n",
       " 'Violence',\n",
       " 'Decree',\n",
       " 'establish',\n",
       " 'domestic',\n",
       " 'violence',\n",
       " 'offence',\n",
       " 'charge',\n",
       " 'would',\n",
       " 'remain',\n",
       " 'one',\n",
       " 'assault',\n",
       " 'Crimes',\n",
       " 'Decree',\n",
       " 'However',\n",
       " 'important',\n",
       " 'provisions',\n",
       " 'Domestic',\n",
       " 'Violence',\n",
       " 'Decree',\n",
       " 'could',\n",
       " 'used',\n",
       " 'protect',\n",
       " 'women',\n",
       " '14',\n",
       " 'Responding',\n",
       " 'questions',\n",
       " 'Belgium',\n",
       " 'Estonia',\n",
       " 'International',\n",
       " 'Criminal',\n",
       " 'Court',\n",
       " 'delegation',\n",
       " 'said',\n",
       " 'Fiji',\n",
       " 'one',\n",
       " 'first',\n",
       " 'States',\n",
       " 'ratify',\n",
       " 'Rome',\n",
       " 'Statute',\n",
       " 'remained',\n",
       " 'steadfastly',\n",
       " 'committed',\n",
       " 'International',\n",
       " 'Criminal',\n",
       " 'Court',\n",
       " 'The',\n",
       " 'countryÕs',\n",
       " 'domestic',\n",
       " 'legislation',\n",
       " 'full',\n",
       " 'complementarity',\n",
       " 'provisions',\n",
       " 'Rome',\n",
       " 'Statute',\n",
       " 'domestic',\n",
       " 'legislation',\n",
       " 'Crimes',\n",
       " 'Decree',\n",
       " '15',\n",
       " 'Responding',\n",
       " 'questions',\n",
       " 'Ethiopia',\n",
       " 'Switzerland',\n",
       " 'rights',\n",
       " 'visˆvis',\n",
       " 'limitations',\n",
       " 'Fijian',\n",
       " 'Constitution',\n",
       " 'Fiji',\n",
       " 'explained',\n",
       " 'burden',\n",
       " 'State',\n",
       " 'prove',\n",
       " 'limitations',\n",
       " 'necessary',\n",
       " 'The',\n",
       " 'law',\n",
       " 'must',\n",
       " 'always',\n",
       " 'promote',\n",
       " 'values',\n",
       " 'underlay',\n",
       " 'democratic',\n",
       " 'society',\n",
       " 'based',\n",
       " 'human',\n",
       " 'dignity',\n",
       " 'equality',\n",
       " 'freedom',\n",
       " 'In',\n",
       " 'addition',\n",
       " 'section',\n",
       " '7',\n",
       " 'Bill',\n",
       " 'Rights',\n",
       " 'underpinning',\n",
       " 'democratic',\n",
       " 'principles',\n",
       " 'guided',\n",
       " 'courtsÕ',\n",
       " 'interpretations',\n",
       " 'allowed',\n",
       " 'consider',\n",
       " 'international',\n",
       " 'law',\n",
       " 'decisions',\n",
       " '16',\n",
       " 'Responding',\n",
       " 'questions',\n",
       " 'abolition',\n",
       " 'death',\n",
       " 'penalty',\n",
       " 'asked',\n",
       " 'France',\n",
       " 'Germany',\n",
       " 'Namibia',\n",
       " 'Fiji',\n",
       " 'noted',\n",
       " 'abolished',\n",
       " 'death',\n",
       " 'penalty',\n",
       " '2001',\n",
       " 'However',\n",
       " 'remained',\n",
       " 'Military',\n",
       " 'Code',\n",
       " 'indirectly',\n",
       " 'virtue',\n",
       " 'applicability',\n",
       " 'Army',\n",
       " 'Act',\n",
       " '1955',\n",
       " 'United',\n",
       " 'Kingdom',\n",
       " 'Fiji',\n",
       " 'announced',\n",
       " 'forthcoming',\n",
       " 'session',\n",
       " 'Parliament',\n",
       " 'Military',\n",
       " 'Code',\n",
       " 'would',\n",
       " 'amended',\n",
       " 'remove',\n",
       " 'reference',\n",
       " 'death',\n",
       " 'penalty',\n",
       " 'altogether',\n",
       " '17',\n",
       " 'Responding',\n",
       " 'questions',\n",
       " 'recommendations',\n",
       " 'Germany',\n",
       " 'New',\n",
       " 'Zealand',\n",
       " 'Republic',\n",
       " 'Korea',\n",
       " 'human',\n",
       " 'rights',\n",
       " 'abuses',\n",
       " 'particular',\n",
       " 'alleged',\n",
       " 'torture',\n",
       " 'illtreatment',\n",
       " 'police',\n",
       " 'Fiji',\n",
       " 'explained',\n",
       " 'cases',\n",
       " 'complaints',\n",
       " 'made',\n",
       " 'police',\n",
       " 'Director',\n",
       " 'Public',\n",
       " 'Prosecutions',\n",
       " 'determined',\n",
       " 'sufficient',\n",
       " 'evidence',\n",
       " 'prosecution',\n",
       " 'perpetrators',\n",
       " 'prosecuted',\n",
       " 'Indeed',\n",
       " 'currently',\n",
       " 'serving',\n",
       " 'terms',\n",
       " 'imprisonment',\n",
       " 'acts',\n",
       " '18',\n",
       " 'The',\n",
       " 'new',\n",
       " 'legal',\n",
       " 'framework',\n",
       " 'Fiji',\n",
       " 'Constitution',\n",
       " 'allowed',\n",
       " 'steps',\n",
       " 'taken',\n",
       " 'ensure',\n",
       " 'police',\n",
       " 'procedures',\n",
       " 'modernized',\n",
       " 'made',\n",
       " 'transparent',\n",
       " 'It',\n",
       " 'acknowledged',\n",
       " 'torture',\n",
       " 'interrogation',\n",
       " 'longstanding',\n",
       " 'problem',\n",
       " 'Fiji',\n",
       " 'owing',\n",
       " 'cultural',\n",
       " 'misconceptions',\n",
       " 'inherited',\n",
       " 'attitudes',\n",
       " 'prevalent',\n",
       " 'Europe',\n",
       " 'within',\n",
       " 'living',\n",
       " 'memory',\n",
       " 'Therefore',\n",
       " 'order',\n",
       " 'avoid',\n",
       " 'lengthy',\n",
       " 'court',\n",
       " 'proceedings',\n",
       " 'determine',\n",
       " 'whether',\n",
       " 'confessions',\n",
       " 'statements',\n",
       " 'obtained',\n",
       " 'torture',\n",
       " 'judiciary',\n",
       " 'provided',\n",
       " 'budgetary',\n",
       " 'resources',\n",
       " 'launch',\n",
       " 'project',\n",
       " 'interviews',\n",
       " 'suspects',\n",
       " 'custody',\n",
       " 'would',\n",
       " 'video',\n",
       " 'recorded',\n",
       " 'would',\n",
       " 'provide',\n",
       " 'additional',\n",
       " 'funds',\n",
       " 'training',\n",
       " 'investigators',\n",
       " 'That',\n",
       " 'done',\n",
       " 'recognition',\n",
       " 'fact',\n",
       " 'institutions',\n",
       " 'must',\n",
       " 'combine',\n",
       " 'resources',\n",
       " 'order',\n",
       " 'eliminate',\n",
       " 'impropriety',\n",
       " 'violent',\n",
       " 'treatment',\n",
       " 'ensure',\n",
       " 'efficient',\n",
       " 'justice',\n",
       " 'system',\n",
       " '19',\n",
       " 'The',\n",
       " 'police',\n",
       " 'also',\n",
       " 'acknowledged',\n",
       " 'deficiencies',\n",
       " 'police',\n",
       " 'investigations',\n",
       " 'aspects',\n",
       " 'police',\n",
       " 'culture',\n",
       " 'past',\n",
       " 'excused',\n",
       " 'ignored',\n",
       " 'police',\n",
       " 'brutality',\n",
       " 'training',\n",
       " 'needed',\n",
       " 'areas',\n",
       " 'domestic',\n",
       " 'violence',\n",
       " 'interrogations',\n",
       " 'Specialized',\n",
       " 'organizations',\n",
       " 'invited',\n",
       " 'cooperate',\n",
       " 'relevant',\n",
       " 'Fijian',\n",
       " 'agencies',\n",
       " 'provision',\n",
       " 'training',\n",
       " 'improve',\n",
       " 'human',\n",
       " 'rights',\n",
       " 'standing',\n",
       " 'criminal',\n",
       " 'justice',\n",
       " 'system',\n",
       " 'Fiji',\n",
       " 'In',\n",
       " 'response',\n",
       " 'concerns',\n",
       " 'raised',\n",
       " 'assaults',\n",
       " 'brutality',\n",
       " 'police',\n",
       " 'custody',\n",
       " 'delegation',\n",
       " 'explained',\n",
       " 'cases',\n",
       " 'evidence',\n",
       " 'obtained',\n",
       " 'means',\n",
       " 'assault',\n",
       " 'police',\n",
       " 'prosecution',\n",
       " 'would',\n",
       " 'continue',\n",
       " 'matter',\n",
       " 'would',\n",
       " 'referred',\n",
       " 'Commissioner',\n",
       " 'Police',\n",
       " 'investigation',\n",
       " 'possible',\n",
       " 'criminal',\n",
       " 'charges',\n",
       " 'officers',\n",
       " 'Such',\n",
       " 'cases',\n",
       " 'recently',\n",
       " 'resulted',\n",
       " 'prosecution',\n",
       " 'conviction',\n",
       " 'three',\n",
       " 'police',\n",
       " 'officers',\n",
       " 'convicted',\n",
       " 'murder',\n",
       " 'joint',\n",
       " 'enterprise',\n",
       " 'two',\n",
       " 'convicted',\n",
       " 'accessories',\n",
       " 'fact',\n",
       " 'young',\n",
       " 'man',\n",
       " 'died',\n",
       " 'police',\n",
       " 'custody',\n",
       " '20',\n",
       " 'The',\n",
       " 'Fijian',\n",
       " ...]"
      ]
     },
     "execution_count": 51,
     "metadata": {},
     "output_type": "execute_result"
    }
   ],
   "source": [
    "no_stops = [word for word in tokens if word not in stopwords.words('english')]\n",
    "no_stops"
   ]
  },
  {
   "cell_type": "markdown",
   "metadata": {},
   "source": [
    "#### 60. How many words are in no_stops?"
   ]
  },
  {
   "cell_type": "code",
   "execution_count": 52,
   "metadata": {},
   "outputs": [
    {
     "data": {
      "text/plain": [
       "6335"
      ]
     },
     "execution_count": 52,
     "metadata": {},
     "output_type": "execute_result"
    }
   ],
   "source": [
    "len(no_stops)"
   ]
  },
  {
   "cell_type": "markdown",
   "metadata": {},
   "source": [
    "#### 61. Import the `counter` function from collections by copy/pasting the code below into a new cell. Then, compute the frequency of words found in `no_stops`. Print the most common 10.\n",
    "\n",
    "from collections import Counter  "
   ]
  },
  {
   "cell_type": "code",
   "execution_count": 53,
   "metadata": {},
   "outputs": [],
   "source": [
    "from collections import Counter"
   ]
  },
  {
   "cell_type": "code",
   "execution_count": 54,
   "metadata": {},
   "outputs": [
    {
     "data": {
      "text/plain": [
       "[('rights', 116),\n",
       " ('human', 86),\n",
       " ('Fiji', 85),\n",
       " ('made', 63),\n",
       " ('Constitution', 62),\n",
       " ('It', 62),\n",
       " ('Rights', 57),\n",
       " ('recommendations', 55),\n",
       " ('The', 51),\n",
       " ('international', 50)]"
      ]
     },
     "execution_count": 54,
     "metadata": {},
     "output_type": "execute_result"
    }
   ],
   "source": [
    "freq = Counter(no_stops)\n",
    "freq.most_common(10)"
   ]
  },
  {
   "cell_type": "markdown",
   "metadata": {},
   "source": [
    "# Section 7: Bash\n",
    "****"
   ]
  },
  {
   "cell_type": "markdown",
   "metadata": {},
   "source": [
    "Define the following Bash commands. What do they do?  \n",
    "\n",
    "1. whoami  \n",
    "2. pwd  \n",
    "3. ls  \n",
    "4. mkdir  \n",
    "5. touch  \n",
    "6. cd  \n",
    "7. cat (open on PC)  \n",
    "8. echo  \n",
    "9. cp  \n",
    "10. rm  "
   ]
  },
  {
   "cell_type": "markdown",
   "metadata": {},
   "source": [
    "#### 62.  \n",
    "1. whoami =  prints the current user's username.\n",
    "\n",
    "#### 63.  \n",
    "2. pwd =  prints working directory.\n",
    "\n",
    "#### 64.  \n",
    "3. ls =  lists the files in the current working directory.\n",
    "\n",
    "#### 65.  \n",
    "4. mkdir =  makes a new directory.\n",
    "\n",
    "#### 66.  \n",
    "5. touch =  creates a file\n",
    "\n",
    "#### 67.  \n",
    "6. cd =  changes directory.\n",
    "\n",
    "#### 68.  \n",
    "7. cat (open on PC) =  views files (and websites)\n",
    "\n",
    "#### 69.  \n",
    "8. echo =  prints stuff\n",
    "\n",
    "#### 70.  \n",
    "9. cp =  copies and pastes file\n",
    "\n",
    "#### 71.  \n",
    "10. rm =  removes file or directory."
   ]
  },
  {
   "cell_type": "markdown",
   "metadata": {},
   "source": [
    "# Section 8: sqlite"
   ]
  },
  {
   "cell_type": "markdown",
   "metadata": {},
   "source": [
    "#### 72. Write one sentence describing sqlite. Write a second sentence stating why it is useful. "
   ]
  },
  {
   "cell_type": "markdown",
   "metadata": {},
   "source": [
    "Sqlite is a relational database management system. It's useful because a lot of data is in database so Sqlite allows us to manipulate/manage the data and gain insight."
   ]
  },
  {
   "cell_type": "markdown",
   "metadata": {},
   "source": [
    "# Section 9: Projects"
   ]
  },
  {
   "cell_type": "markdown",
   "metadata": {},
   "source": [
    "#### 73. Write five sentences describing your group project. "
   ]
  },
  {
   "cell_type": "markdown",
   "metadata": {},
   "source": [
    "The group project is about biases in the data science field and how it can affect the data science project. From the data collection, some groups may be left out, or assumptions are made that are dropped later in the data analysis process. When exploring the data, certain methods used (such as removing stopwords) may be done without fully thinking about the assumptions made, and certain features would be removed that could've been important (such as the gender pronouns) and the insight it could've lended to the project. By making certain assumptions about the data/method, we can draw vastly different conclusions. The key take-home point is that we must be very careful and make our assumptions explicit, otherwise we may end up lying with our data."
   ]
  },
  {
   "cell_type": "markdown",
   "metadata": {},
   "source": [
    "#### 74. Write five sentences describing your individual project. "
   ]
  },
  {
   "cell_type": "markdown",
   "metadata": {},
   "source": [
    "The first project I'm doing is a computational text analysis of popular song lyrics through time. I define popular as the Billboard's top songs from 1950-2018, and measuring time discretely with decades as the units. It's a bit difficult getting the correct lyrics computationally, so I add it to my dataset manually which really limits my corpus size. The other project I'm doing is an art classification by style/movement. I don't really know anything about using data science to analyze images so I'm not sure how far I'll get with that, but I'm making an effort."
   ]
  },
  {
   "cell_type": "markdown",
   "metadata": {},
   "source": [
    "# Section 10: Submit your assignment and GitHub"
   ]
  },
  {
   "cell_type": "markdown",
   "metadata": {
    "collapsed": true
   },
   "source": [
    "#### 75. Submit this assignment on bCourses (see bCourses for the instructions)"
   ]
  },
  {
   "cell_type": "markdown",
   "metadata": {},
   "source": [
    "#### 76. Create a free GitHub account and upload this Jupyter Notebook. Add me (Evan) as a collaborator so I can see. "
   ]
  }
 ],
 "metadata": {
  "kernelspec": {
   "display_name": "Python 3",
   "language": "python",
   "name": "python3"
  },
  "language_info": {
   "codemirror_mode": {
    "name": "ipython",
    "version": 3
   },
   "file_extension": ".py",
   "mimetype": "text/x-python",
   "name": "python",
   "nbconvert_exporter": "python",
   "pygments_lexer": "ipython3",
   "version": "3.7.3"
  }
 },
 "nbformat": 4,
 "nbformat_minor": 2
}
